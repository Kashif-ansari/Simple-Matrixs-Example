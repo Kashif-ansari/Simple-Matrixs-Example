{
 "cells": [
  {
   "cell_type": "code",
   "execution_count": 14,
   "metadata": {},
   "outputs": [
    {
     "name": "stdout",
     "output_type": "stream",
     "text": [
      "[[11  9  1]\n",
      " [ 4  7 22]]\n"
     ]
    }
   ],
   "source": [
    "import numpy as np\n",
    "a = np.array([[5,2,3],[1,2,3]])\n",
    "b = np.array([[6,7,-2],[3,5,19]])\n",
    "c = np.array([[0,0,0],[0,0,0]])\n",
    "for i in range(2):\n",
    "    for j in range(3):\n",
    "        c[i,j]=a[i,j]+b[i,j]\n",
    "print(c)"
   ]
  },
  {
   "cell_type": "code",
   "execution_count": 15,
   "metadata": {},
   "outputs": [
    {
     "name": "stdout",
     "output_type": "stream",
     "text": [
      "[[ -1  -5   5]\n",
      " [ -2  -3 -16]]\n"
     ]
    }
   ],
   "source": [
    "import numpy as np\n",
    "a = np.array([[5,2,3],[1,2,3]])\n",
    "b = np.array([[6,7,-2],[3,5,19]])\n",
    "c = np.array([[0,0,0],[0,0,0]])\n",
    "for i in range(2):\n",
    "    for j in range(3):\n",
    "        c[i,j]=a[i,j]-b[i,j]\n",
    "print(c)"
   ]
  },
  {
   "cell_type": "code",
   "execution_count": 23,
   "metadata": {},
   "outputs": [
    {
     "name": "stdout",
     "output_type": "stream",
     "text": [
      "[[ 25 -26]\n",
      " [ 13 -18]]\n"
     ]
    }
   ],
   "source": [
    "a = np.array([[5,2],[1,2]])\n",
    "b = np.array([[3,-2],[5,-8]])\n",
    "c = np.array([[0,0],[0,0]])\n",
    "for i in range(2):\n",
    "    for j in range(2):\n",
    "        for k in range(2):\n",
    "            c[i,j] += a[i,k] * b[k,j]\n",
    "            \n",
    "print(c)"
   ]
  },
  {
   "cell_type": "code",
   "execution_count": 25,
   "metadata": {},
   "outputs": [
    {
     "name": "stdout",
     "output_type": "stream",
     "text": [
      "[[ 52 -56]\n",
      " [ 76 -88]]\n"
     ]
    }
   ],
   "source": [
    "a = np.array([[5,2,3],[1,2,7]])\n",
    "b = np.array([[3,-2],[5,-8],[9,-10]])\n",
    "c = np.array([[0,0],[0,0]])\n",
    "for i in range(2):\n",
    "    for j in range(2):\n",
    "        for k in range(3):\n",
    "            c[i,j] += a[i,k] * b[k,j]\n",
    "            \n",
    "print(c)"
   ]
  },
  {
   "cell_type": "code",
   "execution_count": 28,
   "metadata": {},
   "outputs": [
    {
     "name": "stdout",
     "output_type": "stream",
     "text": [
      "[[10  4  6]\n",
      " [ 2  4 14]]\n"
     ]
    }
   ],
   "source": [
    "a = np.array([[5,2,3],[1,2,7]])\n",
    "c = np.array([[5,2,3],[1,2,7]])\n",
    "for i in range(2):\n",
    "    for j in range(3):\n",
    "        c[i,j]=a[i,j]*2\n",
    "print(c)"
   ]
  },
  {
   "cell_type": "code",
   "execution_count": 29,
   "metadata": {},
   "outputs": [
    {
     "name": "stdout",
     "output_type": "stream",
     "text": [
      "[[14 12 -2]\n",
      " [ 5  9 19]]\n"
     ]
    }
   ],
   "source": [
    "a = np.array([[5,2,3],[1,2,7]])\n",
    "b = np.array([[6,7,-2],[3,5,19]])\n",
    "c = np.array([[6,7,-2],[3,5,19]])\n",
    "res = np.array([[6,7,-2],[3,5,19]])\n",
    "for i in range(2):\n",
    "    for j in range(2):\n",
    "        res[i,j] = a[i,j]+(2*b[i,j])-(0.5*c[i,j])\n",
    "            \n",
    "print(res)"
   ]
  },
  {
   "cell_type": "code",
   "execution_count": null,
   "metadata": {},
   "outputs": [],
   "source": []
  }
 ],
 "metadata": {
  "kernelspec": {
   "display_name": "Python 3",
   "language": "python",
   "name": "python3"
  },
  "language_info": {
   "codemirror_mode": {
    "name": "ipython",
    "version": 3
   },
   "file_extension": ".py",
   "mimetype": "text/x-python",
   "name": "python",
   "nbconvert_exporter": "python",
   "pygments_lexer": "ipython3",
   "version": "3.8.8"
  }
 },
 "nbformat": 4,
 "nbformat_minor": 2
}
